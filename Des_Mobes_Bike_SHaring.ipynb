{
 "cells": [
  {
   "cell_type": "code",
   "execution_count": null,
   "id": "bd3880e4",
   "metadata": {},
   "outputs": [],
   "source": [
    "# URL for the Project\n",
    "https://public.tableau.com/app/profile/meareg.mamo/viz/Des_Moibes_Bike_Sharing/DesMoinesStory?publish=yes"
   ]
  }
 ],
 "metadata": {
  "kernelspec": {
   "display_name": "PythonData",
   "language": "python",
   "name": "pythondata"
  },
  "language_info": {
   "codemirror_mode": {
    "name": "ipython",
    "version": 3
   },
   "file_extension": ".py",
   "mimetype": "text/x-python",
   "name": "python",
   "nbconvert_exporter": "python",
   "pygments_lexer": "ipython3",
   "version": "3.6.13"
  }
 },
 "nbformat": 4,
 "nbformat_minor": 5
}
